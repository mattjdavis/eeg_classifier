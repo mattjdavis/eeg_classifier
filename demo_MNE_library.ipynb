{
 "cells": [
  {
   "cell_type": "code",
   "execution_count": null,
   "metadata": {},
   "outputs": [],
   "source": [
    "# old funciton to long epochs of MNE files\n",
    "\n",
    "def load_data(path, start, stop):\n",
    "    \"\"\"\n",
    "    Uses MNE-toolbox to load the data. Apply noth filter at 50 Hz\n",
    "    Input: path to file, start and stop in seconds as float\n",
    "    output: the MNE.io.Raw object that contains the given time intervall\n",
    "    \"\"\"\n",
    "    # check if path exist and then load the object with mne\n",
    "    if os.path.exists(data_dir):\n",
    "\n",
    "        raw = mne.io.read_raw_edf(path, exclude=['-', 'T8-P8', '.'], verbose=False, preload=True)\n",
    "\n",
    "        # apply notch filter around 50 Hz.\n",
    "        raw.notch_filter(freqs=[49.1, 50.9])\n",
    "\n",
    "        # Stim channel is automatically created by MNE.\n",
    "        #raw.drop_channels(['STI 014'])\n",
    "\n",
    "        # Take 30 seconds before onset\n",
    "        #start = start - \n",
    "        #stop = start + 150\n",
    "        # check if the recording is long enough to create the feature vector\n",
    "        if raw.n_times // 256 > start + 150:\n",
    "            try:\n",
    "                cropped = raw.crop(start, stop, verbose=False)\n",
    "            except:\n",
    "                # Sometime something goes wrong so I manually extract the seizure of the timewindow and return a\n",
    "                # newly created object with the info\n",
    "                manual_raw = raw.get_data()\n",
    "                freq = raw.info['sfreq']\n",
    "                manual_start = int(start * freq)\n",
    "                manual_stop = int((stop * freq + 1))\n",
    "                manual_data = np.asarray([manual_raw[i][manual_start:manual_stop] for i in range(len(manual_raw))])\n",
    "                cropped = mne.io.RawArray(manual_data, raw.info, verbose=False)\n",
    "\n",
    "        return cropped\n",
    "\n",
    "raw_data = load_data('data/chb-mit-scalp-eeg-database-1.0.0/chb06/chb06_06.edf',0,2000)"
   ]
  },
  {
   "cell_type": "code",
   "execution_count": null,
   "metadata": {},
   "outputs": [],
   "source": [
    "raw_data.plot(duration=500, n_channels=10,scalings='auto',lowpass=True)\n",
    "plt.show()"
   ]
  },
  {
   "cell_type": "code",
   "execution_count": null,
   "metadata": {},
   "outputs": [],
   "source": [
    "raw_data.plot_psd(fmax=50,average=True)\n",
    "plt.show()"
   ]
  }
 ],
 "metadata": {
  "interpreter": {
   "hash": "a2d429b41fd3ebfe30c3f6839fa10ee4d1ea82468110e80ffd2929bdfbab416c"
  },
  "kernelspec": {
   "display_name": "Python 3.8.5 64-bit ('fastai': conda)",
   "language": "python",
   "name": "python3"
  },
  "language_info": {
   "name": "python",
   "version": "3.8.5"
  },
  "orig_nbformat": 4
 },
 "nbformat": 4,
 "nbformat_minor": 2
}
