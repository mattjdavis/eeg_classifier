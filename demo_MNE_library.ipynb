{
 "cells": [
  {
   "cell_type": "code",
   "execution_count": null,
   "metadata": {},
   "outputs": [],
   "source": [
    "# old funciton to long epochs of MNE files\n",
    "\n",
    "def load_data(path, start, stop):\n",
    "    \"\"\"\n",
    "    Uses MNE-toolbox to load the data. Apply noth filter at 50 Hz\n",
    "    Input: path to file, start and stop in seconds as float\n",
    "    output: the MNE.io.Raw object that contains the given time intervall\n",
    "    \"\"\"\n",
    "    # check if path exist and then load the object with mne\n",
    "    if os.path.exists(data_dir):\n",
    "\n",
    "        raw = mne.io.read_raw_edf(path, exclude=['-', 'T8-P8', '.'], verbose=False, preload=True)\n",
    "\n",
    "        # apply notch filter around 50 Hz.\n",
    "        raw.notch_filter(freqs=[49.1, 50.9])\n",
    "\n",
    "        # Stim channel is automatically created by MNE.\n",
    "        #raw.drop_channels(['STI 014'])\n",
    "\n",
    "        # Take 30 seconds before onset\n",
    "        #start = start - \n",
    "        #stop = start + 150\n",
    "        # check if the recording is long enough to create the feature vector\n",
    "        if raw.n_times // 256 > start + 150:\n",
    "            try:\n",
    "                cropped = raw.crop(start, stop, verbose=False)\n",
    "            except:\n",
    "                # Sometime something goes wrong so I manually extract the seizure of the timewindow and return a\n",
    "                # newly created object with the info\n",
    "                manual_raw = raw.get_data()\n",
    "                freq = raw.info['sfreq']\n",
    "                manual_start = int(start * freq)\n",
    "                manual_stop = int((stop * freq + 1))\n",
    "                manual_data = np.asarray([manual_raw[i][manual_start:manual_stop] for i in range(len(manual_raw))])\n",
    "                cropped = mne.io.RawArray(manual_data, raw.info, verbose=False)\n",
    "\n",
    "        return cropped\n",
    "\n",
    "raw_data = load_data('data/chb-mit-scalp-eeg-database-1.0.0/chb06/chb06_06.edf',0,2000)"
   ]
  },
  {
   "cell_type": "code",
   "execution_count": null,
   "metadata": {},
   "outputs": [],
   "source": []
  },
  {
   "cell_type": "code",
   "execution_count": null,
   "metadata": {},
   "outputs": [],
   "source": [
    "raw_data.plot(duration=500, n_channels=10,scalings='auto',lowpass=True)\n",
    "plt.show()"
   ]
  },
  {
   "cell_type": "code",
   "execution_count": null,
   "metadata": {},
   "outputs": [],
   "source": [
    "raw_data.plot_psd(fmax=50,average=True)\n",
    "plt.show()"
   ]
  },
  {
   "cell_type": "code",
   "execution_count": null,
   "metadata": {},
   "outputs": [],
   "source": [
    "# selecting from raw data\n",
    "\n",
    "data, times = raw_data.get_data(return_times=True) # data: channel x time\n",
    "\n",
    "# index method\n",
    "# data = raw[:][0]\n",
    "# times = raw[:][1]\n",
    "\n",
    "# pick channels\n",
    "# two_meg_chans_data = raw.get_data(picks=['MEG_0712', 'MEG_1022'],\n",
    "#                                  start=1000, stop=2000)\n",
    "\n",
    "data.shape"
   ]
  },
  {
   "cell_type": "code",
   "execution_count": null,
   "metadata": {},
   "outputs": [],
   "source": [
    "# example crop\n",
    "\n",
    "raw_data.copy().crop(tmin=10, tmax=12.5)"
   ]
  },
  {
   "cell_type": "code",
   "execution_count": 9,
   "metadata": {},
   "outputs": [
    {
     "name": "stderr",
     "output_type": "stream",
     "text": [
      "C:\\Users\\Matt\\AppData\\Local\\Temp\\ipykernel_19512\\1313610283.py:15: RuntimeWarning: Channel names are not unique, found duplicates for: {'T8-P8'}. Applying running numbers for duplicates.\n",
      "  raw = mne.io.read_raw_edf(path, verbose=False, preload=True)\n"
     ]
    },
    {
     "data": {
      "text/plain": [
       "(17, 595200)"
      ]
     },
     "execution_count": 9,
     "metadata": {},
     "output_type": "execute_result"
    }
   ],
   "source": [
    "# loading multiple\n",
    "import utils\n",
    "from pathlib import Path\n",
    "import mne\n",
    "\n",
    "data_dir = Path(r'C:\\data\\chb-mit-scalp-eeg-database-1.0.0')\n",
    "\n",
    "df_info = utils.get_summaries(data_dir)\n",
    "\n",
    "channels =  ['FP1-F7', 'F7-T7', 'T7-P7', 'P7-O1', 'FP1-F3', 'F3-C3',\n",
    "'C3-P3', 'P3-O1', 'FP2-F4', 'F4-C4', 'C4-P4', 'P4-O2', 'FP2-F8', 'F8-T8', 'P8-O2', 'FZ-CZ', 'CZ-PZ'] # 'T8-P8'\n",
    "\n",
    "for i,row in df_info.loc[25:25].iterrows():\n",
    "    path = row.folder / row.file_name\n",
    "    raw = mne.io.read_raw_edf(path, verbose=False, preload=True)\n",
    "\n",
    "\n",
    "data = raw.get_data(picks=channels)\n",
    "\n",
    "data.shape"
   ]
  },
  {
   "cell_type": "code",
   "execution_count": null,
   "metadata": {},
   "outputs": [],
   "source": [
    "# create array of power line noise + harmonics\n",
    "\n",
    "np.arange(60, 241, 60)"
   ]
  },
  {
   "cell_type": "code",
   "execution_count": null,
   "metadata": {},
   "outputs": [],
   "source": [
    "# info keys\n",
    "\n",
    "list(raw.info.keys())"
   ]
  },
  {
   "cell_type": "markdown",
   "metadata": {},
   "source": [
    "# Segments"
   ]
  },
  {
   "cell_type": "code",
   "execution_count": null,
   "metadata": {},
   "outputs": [],
   "source": [
    "fs = raw_data.info['sfreq']\n",
    "start_stop_seconds = np.array([0, 5])\n",
    "start_sample, stop_sample = (start_stop_seconds * fs).astype(int)\n",
    "raw_selection = raw[0, start_sample:stop_sample] # can do by index or name.\n",
    "\n",
    "x = raw_selection[1]\n",
    "y = raw_selection[0].T\n",
    "plt.plot(x, y)"
   ]
  },
  {
   "cell_type": "code",
   "execution_count": null,
   "metadata": {},
   "outputs": [],
   "source": [
    "win_len = 5\n",
    "fs = raw.info['sfreq']\n",
    "n_segments = data.shape[1]/(win_len*fs)\n",
    "n_chan = raw.info[\"nchan\"]\n",
    "\n",
    "D = np.reshape(data,(n_chan,n_segments,-1)) # channel x segment x time "
   ]
  },
  {
   "cell_type": "markdown",
   "metadata": {},
   "source": [
    "# Tests"
   ]
  },
  {
   "cell_type": "code",
   "execution_count": null,
   "metadata": {},
   "outputs": [],
   "source": [
    "# testing all rows to find errors\n",
    "fs = 256\n",
    "for i,row in df_info.iterrows():\n",
    "\n",
    "    if int(row.number_of_seizures_in_file) > 0:\n",
    "\n",
    "        for seizures in row.seizure_times:\n",
    "            print(row.file_name)\n",
    "            print(row.seizure_times)\n",
    "            s, e = (seizures.astype('int') * fs).astype(int)\n",
    "\n",
    "        \n",
    "\n"
   ]
  }
 ],
 "metadata": {
  "interpreter": {
   "hash": "a2d429b41fd3ebfe30c3f6839fa10ee4d1ea82468110e80ffd2929bdfbab416c"
  },
  "kernelspec": {
   "display_name": "Python 3.8.5 64-bit ('fastai': conda)",
   "language": "python",
   "name": "python3"
  },
  "language_info": {
   "codemirror_mode": {
    "name": "ipython",
    "version": 3
   },
   "file_extension": ".py",
   "mimetype": "text/x-python",
   "name": "python",
   "nbconvert_exporter": "python",
   "pygments_lexer": "ipython3",
   "version": "3.8.5"
  },
  "orig_nbformat": 4
 },
 "nbformat": 4,
 "nbformat_minor": 2
}
