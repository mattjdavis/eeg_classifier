{
 "cells": [
  {
   "cell_type": "code",
   "execution_count": null,
   "metadata": {},
   "outputs": [],
   "source": [
    "# old funciton to long epochs of MNE files\n",
    "\n",
    "def load_data(path, start, stop):\n",
    "    \"\"\"\n",
    "    Uses MNE-toolbox to load the data. Apply noth filter at 50 Hz\n",
    "    Input: path to file, start and stop in seconds as float\n",
    "    output: the MNE.io.Raw object that contains the given time intervall\n",
    "    \"\"\"\n",
    "    # check if path exist and then load the object with mne\n",
    "    if os.path.exists(data_dir):\n",
    "\n",
    "        raw = mne.io.read_raw_edf(path, exclude=['-', 'T8-P8', '.'], verbose=False, preload=True)\n",
    "\n",
    "        # apply notch filter around 50 Hz.\n",
    "        raw.notch_filter(freqs=[49.1, 50.9])\n",
    "\n",
    "        # Stim channel is automatically created by MNE.\n",
    "        #raw.drop_channels(['STI 014'])\n",
    "\n",
    "        # Take 30 seconds before onset\n",
    "        #start = start - \n",
    "        #stop = start + 150\n",
    "        # check if the recording is long enough to create the feature vector\n",
    "        if raw.n_times // 256 > start + 150:\n",
    "            try:\n",
    "                cropped = raw.crop(start, stop, verbose=False)\n",
    "            except:\n",
    "                # Sometime something goes wrong so I manually extract the seizure of the timewindow and return a\n",
    "                # newly created object with the info\n",
    "                manual_raw = raw.get_data()\n",
    "                freq = raw.info['sfreq']\n",
    "                manual_start = int(start * freq)\n",
    "                manual_stop = int((stop * freq + 1))\n",
    "                manual_data = np.asarray([manual_raw[i][manual_start:manual_stop] for i in range(len(manual_raw))])\n",
    "                cropped = mne.io.RawArray(manual_data, raw.info, verbose=False)\n",
    "\n",
    "        return cropped\n",
    "\n",
    "raw_data = load_data('data/chb-mit-scalp-eeg-database-1.0.0/chb06/chb06_06.edf',0,2000)"
   ]
  },
  {
   "cell_type": "code",
   "execution_count": null,
   "metadata": {},
   "outputs": [],
   "source": []
  },
  {
   "cell_type": "code",
   "execution_count": null,
   "metadata": {},
   "outputs": [],
   "source": [
    "raw_data.plot(duration=500, n_channels=10,scalings='auto',lowpass=True)\n",
    "plt.show()"
   ]
  },
  {
   "cell_type": "code",
   "execution_count": null,
   "metadata": {},
   "outputs": [],
   "source": [
    "raw_data.plot_psd(fmax=50,average=True)\n",
    "plt.show()"
   ]
  },
  {
   "cell_type": "code",
   "execution_count": null,
   "metadata": {},
   "outputs": [],
   "source": [
    "# selecting from raw data\n",
    "\n",
    "data, times = raw_data.get_data(return_times=True) # data: channel x time\n",
    "\n",
    "# index method\n",
    "# data = raw[:][0]\n",
    "# times = raw[:][1]\n",
    "\n",
    "# pick channels\n",
    "# two_meg_chans_data = raw.get_data(picks=['MEG_0712', 'MEG_1022'],\n",
    "#                                  start=1000, stop=2000)\n",
    "\n",
    "data.shape"
   ]
  },
  {
   "cell_type": "code",
   "execution_count": null,
   "metadata": {},
   "outputs": [],
   "source": [
    "# example crop\n",
    "\n",
    "raw_data.copy().crop(tmin=10, tmax=12.5)"
   ]
  },
  {
   "cell_type": "code",
   "execution_count": 7,
   "metadata": {},
   "outputs": [
    {
     "name": "stderr",
     "output_type": "stream",
     "text": [
      "664it [00:06, 95.01it/s] \n"
     ]
    },
    {
     "data": {
      "text/plain": [
       "(17, 595200)"
      ]
     },
     "execution_count": 7,
     "metadata": {},
     "output_type": "execute_result"
    }
   ],
   "source": [
    "## check for intersect of picked channels and channels in the raw file, 17 is correct\n",
    "\n",
    "# loading multiple\n",
    "import utils\n",
    "from pathlib import Path\n",
    "import mne\n",
    "from tqdm import tqdm\n",
    "\n",
    "data_dir = Path(r'C:\\data\\chb-mit-scalp-eeg-database-1.0.0')\n",
    "\n",
    "df_info = utils.get_summaries(data_dir)\n",
    "\n",
    "channels =  {'FP1-F7', 'F7-T7', 'T7-P7', 'P7-O1', 'FP1-F3', 'F3-C3',\n",
    "'C3-P3', 'P3-O1', 'FP2-F4', 'F4-C4', 'C4-P4', 'P4-O2', 'FP2-F8', 'F8-T8', 'P8-O2', 'FZ-CZ', 'CZ-PZ'} # 'T8-P8'\n",
    "\n",
    "inter=[]\n",
    "#for i,row in df_info.loc[25:25].iterrows():\n",
    "for i,row in tqdm(df_info.iterrows()):\n",
    "    path = row.folder / row.file_name\n",
    "    raw = mne.io.read_raw_edf(path, verbose=False, exclude=['-', 'T8-P8', '.'], preload=False)\n",
    "    raw_ch = set(raw.info['ch_names'])\n",
    "    inter.append(len(raw_ch & channels))\n",
    "\n",
    "df_info[\"intersect\"] = inter\n",
    "\n",
    "\n",
    "#data = raw.get_data(picks=channels)\n",
    "\n",
    "data.shape"
   ]
  },
  {
   "cell_type": "code",
   "execution_count": 9,
   "metadata": {},
   "outputs": [
    {
     "data": {
      "text/html": [
       "<div>\n",
       "<style scoped>\n",
       "    .dataframe tbody tr th:only-of-type {\n",
       "        vertical-align: middle;\n",
       "    }\n",
       "\n",
       "    .dataframe tbody tr th {\n",
       "        vertical-align: top;\n",
       "    }\n",
       "\n",
       "    .dataframe thead th {\n",
       "        text-align: right;\n",
       "    }\n",
       "</style>\n",
       "<table border=\"1\" class=\"dataframe\">\n",
       "  <thead>\n",
       "    <tr style=\"text-align: right;\">\n",
       "      <th></th>\n",
       "      <th>file_name</th>\n",
       "      <th>file_start_time</th>\n",
       "      <th>file_end_time</th>\n",
       "      <th>number_of_seizures_in_file</th>\n",
       "      <th>subject</th>\n",
       "      <th>seizure_times</th>\n",
       "      <th>folder</th>\n",
       "      <th>intersect</th>\n",
       "    </tr>\n",
       "  </thead>\n",
       "  <tbody>\n",
       "    <tr>\n",
       "      <th>343</th>\n",
       "      <td>chb12_27.edf</td>\n",
       "      <td>16:07:06</td>\n",
       "      <td>17:07:06</td>\n",
       "      <td>6</td>\n",
       "      <td>chb12</td>\n",
       "      <td>[[916, 951], [1097, 1124], [1728, 1753], [1921...</td>\n",
       "      <td>C:\\data\\chb-mit-scalp-eeg-database-1.0.0\\chb12</td>\n",
       "      <td>0</td>\n",
       "    </tr>\n",
       "    <tr>\n",
       "      <th>344</th>\n",
       "      <td>chb12_28.edf</td>\n",
       "      <td>17:07:12</td>\n",
       "      <td>18:07:12</td>\n",
       "      <td>1</td>\n",
       "      <td>chb12</td>\n",
       "      <td>[[181, 215]]</td>\n",
       "      <td>C:\\data\\chb-mit-scalp-eeg-database-1.0.0\\chb12</td>\n",
       "      <td>0</td>\n",
       "    </tr>\n",
       "    <tr>\n",
       "      <th>345</th>\n",
       "      <td>chb12_29.edf</td>\n",
       "      <td>18:07:19</td>\n",
       "      <td>19:07:43</td>\n",
       "      <td>6</td>\n",
       "      <td>chb12</td>\n",
       "      <td>[[107, 146], [554, 592], [1163, 1199], [1401, ...</td>\n",
       "      <td>C:\\data\\chb-mit-scalp-eeg-database-1.0.0\\chb12</td>\n",
       "      <td>0</td>\n",
       "    </tr>\n",
       "  </tbody>\n",
       "</table>\n",
       "</div>"
      ],
      "text/plain": [
       "        file_name file_start_time file_end_time number_of_seizures_in_file  \\\n",
       "343  chb12_27.edf        16:07:06      17:07:06                          6   \n",
       "344  chb12_28.edf        17:07:12      18:07:12                          1   \n",
       "345  chb12_29.edf        18:07:19      19:07:43                          6   \n",
       "\n",
       "    subject                                      seizure_times  \\\n",
       "343   chb12  [[916, 951], [1097, 1124], [1728, 1753], [1921...   \n",
       "344   chb12                                       [[181, 215]]   \n",
       "345   chb12  [[107, 146], [554, 592], [1163, 1199], [1401, ...   \n",
       "\n",
       "                                             folder  intersect  \n",
       "343  C:\\data\\chb-mit-scalp-eeg-database-1.0.0\\chb12          0  \n",
       "344  C:\\data\\chb-mit-scalp-eeg-database-1.0.0\\chb12          0  \n",
       "345  C:\\data\\chb-mit-scalp-eeg-database-1.0.0\\chb12          0  "
      ]
     },
     "execution_count": 9,
     "metadata": {},
     "output_type": "execute_result"
    }
   ],
   "source": [
    "df_info.query('intersect != 17')"
   ]
  },
  {
   "cell_type": "code",
   "execution_count": null,
   "metadata": {},
   "outputs": [],
   "source": [
    "# create array of power line noise + harmonics\n",
    "\n",
    "np.arange(60, 241, 60)"
   ]
  },
  {
   "cell_type": "code",
   "execution_count": null,
   "metadata": {},
   "outputs": [],
   "source": []
  },
  {
   "cell_type": "code",
   "execution_count": null,
   "metadata": {},
   "outputs": [],
   "source": [
    "# info keys\n",
    "\n",
    "list(raw.info.keys())"
   ]
  },
  {
   "cell_type": "markdown",
   "metadata": {},
   "source": [
    "# Segments"
   ]
  },
  {
   "cell_type": "code",
   "execution_count": null,
   "metadata": {},
   "outputs": [],
   "source": [
    "fs = raw_data.info['sfreq']\n",
    "start_stop_seconds = np.array([0, 5])\n",
    "start_sample, stop_sample = (start_stop_seconds * fs).astype(int)\n",
    "raw_selection = raw[0, start_sample:stop_sample] # can do by index or name.\n",
    "\n",
    "x = raw_selection[1]\n",
    "y = raw_selection[0].T\n",
    "plt.plot(x, y)"
   ]
  },
  {
   "cell_type": "code",
   "execution_count": null,
   "metadata": {},
   "outputs": [],
   "source": [
    "win_len = 5\n",
    "fs = raw.info['sfreq']\n",
    "n_segments = data.shape[1]/(win_len*fs)\n",
    "n_chan = raw.info[\"nchan\"]\n",
    "\n",
    "D = np.reshape(data,(n_chan,n_segments,-1)) # channel x segment x time "
   ]
  },
  {
   "cell_type": "markdown",
   "metadata": {},
   "source": [
    "# Tests"
   ]
  },
  {
   "cell_type": "code",
   "execution_count": null,
   "metadata": {},
   "outputs": [],
   "source": [
    "# testing all rows to find errors\n",
    "fs = 256\n",
    "for i,row in df_info.iterrows():\n",
    "\n",
    "    if int(row.number_of_seizures_in_file) > 0:\n",
    "\n",
    "        for seizures in row.seizure_times:\n",
    "            print(row.file_name)\n",
    "            print(row.seizure_times)\n",
    "            s, e = (seizures.astype('int') * fs).astype(int)\n",
    "\n",
    "        \n",
    "\n"
   ]
  }
 ],
 "metadata": {
  "interpreter": {
   "hash": "a2d429b41fd3ebfe30c3f6839fa10ee4d1ea82468110e80ffd2929bdfbab416c"
  },
  "kernelspec": {
   "display_name": "Python 3.8.5 64-bit ('fastai': conda)",
   "language": "python",
   "name": "python3"
  },
  "language_info": {
   "codemirror_mode": {
    "name": "ipython",
    "version": 3
   },
   "file_extension": ".py",
   "mimetype": "text/x-python",
   "name": "python",
   "nbconvert_exporter": "python",
   "pygments_lexer": "ipython3",
   "version": "3.8.5"
  },
  "orig_nbformat": 4
 },
 "nbformat": 4,
 "nbformat_minor": 2
}
